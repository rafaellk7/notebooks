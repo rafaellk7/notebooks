{
    "cells": [
        {
            "metadata": {},
            "cell_type": "code",
            "source": "\nimport ibmos2spark\n# @hidden_cell\ncredentials = {\n    'endpoint': 'https://s3-api.us-geo.objectstorage.service.networklayer.com',\n    'service_id': 'iam-ServiceId-9278b42a-ac62-4a9f-9e8f-5b3ba0299a0e',\n    'iam_service_endpoint': 'https://iam.cloud.ibm.com/oidc/token',\n    'api_key': 'cA5TBKxM_Vu6CS_XZbaNxgmbjaWEYKnAz7V-KwpZ7QTP'\n}\n\nconfiguration_name = 'os_913da1aba6264c3aa49ba0e00b7d0a26_configs'\ncos = ibmos2spark.CloudObjectStorage(sc, credentials, configuration_name, 'bluemix_cos')\n\nfrom pyspark.sql import SparkSession\nspark = SparkSession.builder.getOrCreate()\ndf_data_1 = spark.read\\\n  .format('org.apache.spark.sql.execution.datasources.csv.CSVFileFormat')\\\n  .option('header', 'true')\\\n  .load(cos.url('HTC.csv', 'project1-donotdelete-pr-9qnbeupshyd6k5'))\ndf_data_1.take(5)\n",
            "execution_count": 2,
            "outputs": [
                {
                    "output_type": "execute_result",
                    "execution_count": 2,
                    "data": {
                        "text/plain": "[Row(Name='DP 0', P4='2400', P2='85.85624695', P3='0.0166'),\n Row(Name='DP 1', P4='2600', P2='81.5765152', P3='0.0166'),\n Row(Name='DP 2', P4='2800', P2='77.9056778', P3='0.0166'),\n Row(Name='DP 3', P4='3000', P2='74.7219696', P3='0.0166'),\n Row(Name='DP 4', P4='3200', P2='71.93410492', P3='0.0166')]"
                    },
                    "metadata": {}
                }
            ]
        }
    ],
    "metadata": {
        "kernelspec": {
            "name": "python36",
            "display_name": "Python 3.6 with Spark",
            "language": "python3"
        },
        "language_info": {
            "mimetype": "text/x-python",
            "nbconvert_exporter": "python",
            "name": "python",
            "pygments_lexer": "ipython3",
            "version": "3.6.8",
            "file_extension": ".py",
            "codemirror_mode": {
                "version": 3,
                "name": "ipython"
            }
        }
    },
    "nbformat": 4,
    "nbformat_minor": 1
}